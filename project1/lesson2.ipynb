{
 "cells": [
  {
   "cell_type": "code",
   "execution_count": 5,
   "metadata": {},
   "outputs": [
    {
     "name": "stdout",
     "output_type": "stream",
     "text": [
      "名稱\n",
      "羅東立體停車場\n",
      "宜蘭縣羅東鎮南門地下停車場\n",
      "宜蘭縣羅東鎮民生大樓停車場\n",
      "羅東鎮公共造產停車場(公所前停車場)\n",
      "羅東鎮公共造產停車場(公所前廣停停車場)\n",
      "羅東公正國小地下停車場\n",
      "羅東停一停車場\n",
      "羅東停三停車場\n",
      "公正平面停車場\n",
      "北成國小停車場\n",
      "宜蘭縣政府文化局羅東文化工場停車場\n",
      "倉前平面停車場\n",
      "礁溪鄉公共造產地景廣場停車場\n",
      "礁溪鄉公共造產水景廣場停車場\n",
      "臺鐵礁溪站前停車場\n",
      "礁溪鄉公有立體停車場\n",
      "盱江新村停車場\n",
      "礁溪停車場\n",
      "國立宜蘭大學停車場\n",
      "豆腐岬風景區停車場\n",
      "正好停中山演藝廳站\n",
      "冬山梅花湖停車場\n",
      "永鴻停車場有限公司(停七)停車場\n",
      "臺鐵宜蘭前站停車場\n",
      "永鴻停車場有限公司(停五)停車場\n",
      "宜蘭轉運站停車場\n",
      "Times宜蘭舊城南路停車場\n",
      "宜蘭民權停車場\n",
      "國立陽明大學附設醫院場地管理中心停車場\n",
      "永鴻停車場有限公司(停六)停車場\n",
      "頭城鎮大溪漁港停車場\n",
      "蘭陽博物館停車場\n",
      "五峰旗停車場\n",
      "龍潭湖風景區停車場\n",
      "中興文化創意產業園區停車場\n",
      "冬山河生態綠舟停車場\n",
      "傳統藝術中心停車場\n"
     ]
    }
   ],
   "source": [
    "from urllib import response\n",
    "import requests\n",
    "import io\n",
    "import csv\n",
    "url=\"http://opendataap2.e-land.gov.tw/./resource/files/2021-03-11/132147d68273721d057a4e0247d83995.csv\"\n",
    "\n",
    "response=requests.get(url)\n",
    "response.encoding=\"utf-8\"\n",
    "csv_txt = response.text\n",
    "file=io.StringIO(csv_txt)\n",
    "csv_reader=csv.reader(file)\n",
    "csv_list = list(csv_reader)\n",
    "for row in csv_list:\n",
    "    print(row[0])\n"
   ]
  }
 ],
 "metadata": {
  "kernelspec": {
   "display_name": "Python 3.10.7 ('venv01')",
   "language": "python",
   "name": "python3"
  },
  "language_info": {
   "codemirror_mode": {
    "name": "ipython",
    "version": 3
   },
   "file_extension": ".py",
   "mimetype": "text/x-python",
   "name": "python",
   "nbconvert_exporter": "python",
   "pygments_lexer": "ipython3",
   "version": "3.10.7"
  },
  "orig_nbformat": 4,
  "vscode": {
   "interpreter": {
    "hash": "70d584b9506959365acb928f1f96757e42f438193f67669a78d5d2fc9aef7e41"
   }
  }
 },
 "nbformat": 4,
 "nbformat_minor": 2
}
