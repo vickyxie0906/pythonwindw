{
 "cells": [
  {
   "cell_type": "code",
   "execution_count": 5,
   "metadata": {},
   "outputs": [],
   "source": [
    "class Person():\n",
    "    def __init__(self,name) :\n",
    "        self.name=name\n",
    "    "
   ]
  },
  {
   "cell_type": "code",
   "execution_count": 9,
   "metadata": {},
   "outputs": [],
   "source": [
    "class Magician(Person):\n",
    "    def __init__(self,name) :\n",
    "        super().__init__(name)\n",
    "        self.__rol=\"魔法師\"\n",
    "    @property\n",
    "    def rol(self):\n",
    "        return self.__rol\n"
   ]
  },
  {
   "cell_type": "code",
   "execution_count": 10,
   "metadata": {},
   "outputs": [],
   "source": [
    "class Fighter(Person):\n",
    "    def __init__(self,name) :\n",
    "        super().__init__(name)\n",
    "        self.__rol=\"戰士\"#__隱藏atttribute\n",
    "    @property\n",
    "    def rol(self):\n",
    "        return self.__rol"
   ]
  },
  {
   "cell_type": "code",
   "execution_count": 11,
   "metadata": {},
   "outputs": [
    {
     "name": "stdout",
     "output_type": "stream",
     "text": [
      "Robert\n",
      "戰士\n"
     ]
    }
   ],
   "source": [
    "fighter1=Fighter(\"Robert\")\n",
    "print(fighter1.name)\n",
    "print(fighter1.rol)\n"
   ]
  },
  {
   "cell_type": "code",
   "execution_count": 14,
   "metadata": {},
   "outputs": [
    {
     "name": "stdout",
     "output_type": "stream",
     "text": [
      "Lily\n",
      "魔法師\n"
     ]
    }
   ],
   "source": [
    "magician1 = Magician(\"Lily\")\n",
    "print(magician1.name)\n",
    "print(magician1.rol)\n"
   ]
  }
 ],
 "metadata": {
  "kernelspec": {
   "display_name": "Python 3.10.7 ('venv01')",
   "language": "python",
   "name": "python3"
  },
  "language_info": {
   "codemirror_mode": {
    "name": "ipython",
    "version": 3
   },
   "file_extension": ".py",
   "mimetype": "text/x-python",
   "name": "python",
   "nbconvert_exporter": "python",
   "pygments_lexer": "ipython3",
   "version": "3.10.7"
  },
  "orig_nbformat": 4,
  "vscode": {
   "interpreter": {
    "hash": "70d584b9506959365acb928f1f96757e42f438193f67669a78d5d2fc9aef7e41"
   }
  }
 },
 "nbformat": 4,
 "nbformat_minor": 2
}
