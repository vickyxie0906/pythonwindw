{
 "cells": [
  {
   "cell_type": "code",
   "execution_count": 2,
   "metadata": {},
   "outputs": [],
   "source": [
    "#自訂的function\n",
    "#傳出dictionary\n",
    "def menu(wine,entree=\"海鮮\",dessert=\"蛋糕\"):\n",
    "    return{\"酒\":wine,\"主餐\":entree,\"甜點\":dessert}"
   ]
  },
  {
   "cell_type": "code",
   "execution_count": 5,
   "metadata": {},
   "outputs": [
    {
     "data": {
      "text/plain": [
       "{'酒': '啤酒', '主餐': '海鮮', '甜點': '蛋糕'}"
      ]
     },
     "execution_count": 5,
     "metadata": {},
     "output_type": "execute_result"
    }
   ],
   "source": [
    "#引數位置的呼叫\n",
    "menu(\"啤酒\")\n"
   ]
  },
  {
   "cell_type": "code",
   "execution_count": 6,
   "metadata": {},
   "outputs": [
    {
     "data": {
      "text/plain": [
       "{'酒': '啤酒', '主餐': '海鮮', '甜點': '冰淇淋'}"
      ]
     },
     "execution_count": 6,
     "metadata": {},
     "output_type": "execute_result"
    }
   ],
   "source": [
    "#混合呼叫\n",
    "menu(\"啤酒\",dessert=\"冰淇淋\")"
   ]
  }
 ],
 "metadata": {
  "kernelspec": {
   "display_name": "Python 3.10.7 ('venv01')",
   "language": "python",
   "name": "python3"
  },
  "language_info": {
   "codemirror_mode": {
    "name": "ipython",
    "version": 3
   },
   "file_extension": ".py",
   "mimetype": "text/x-python",
   "name": "python",
   "nbconvert_exporter": "python",
   "pygments_lexer": "ipython3",
   "version": "3.10.7"
  },
  "orig_nbformat": 4,
  "vscode": {
   "interpreter": {
    "hash": "70d584b9506959365acb928f1f96757e42f438193f67669a78d5d2fc9aef7e41"
   }
  }
 },
 "nbformat": 4,
 "nbformat_minor": 2
}
