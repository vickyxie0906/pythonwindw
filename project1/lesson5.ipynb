{
 "cells": [
  {
   "cell_type": "code",
   "execution_count": 12,
   "metadata": {},
   "outputs": [
    {
     "name": "stdout",
     "output_type": "stream",
     "text": [
      "(1, 2, 'a', 'b', 3.5, 9)\n"
     ]
    }
   ],
   "source": [
    "def print_args(*args):\n",
    "    print(args)\n",
    "\n",
    "\n",
    "arg = [1, 2, 'a', 'b', 3.5, 9]\n",
    "print_args(*arg)\n"
   ]
  },
  {
   "cell_type": "code",
   "execution_count": 11,
   "metadata": {},
   "outputs": [
    {
     "name": "stdout",
     "output_type": "stream",
     "text": [
      "1-2-a-b-3.5-True."
     ]
    }
   ],
   "source": [
    "\n",
    "print(1,2,\"a\",\"b\",3.5,True,sep=\"-\",end='.')"
   ]
  },
  {
   "cell_type": "code",
   "execution_count": null,
   "metadata": {},
   "outputs": [],
   "source": []
  },
  {
   "cell_type": "code",
   "execution_count": 7,
   "metadata": {},
   "outputs": [
    {
     "name": "stdout",
     "output_type": "stream",
     "text": [
      "姓名: robert\n",
      "age: 34\n",
      "{}\n",
      "========\n",
      "姓名: jenny\n",
      "age: 20\n",
      "{'a': 1, 'b': 2, 'c': 3, 'd': 4, 'e': 5}\n",
      "========\n"
     ]
    }
   ],
   "source": [
    "def person(name,age,**keargs):\n",
    "    print(\"姓名:\",name)\n",
    "    print(\"age:\",age)\n",
    "    print(keargs)\n",
    "\n",
    "    print(\"========\")\n",
    "person(\"robert\",34)\n",
    "person(\"jenny\",20,a=1,b=2,c=3,d=4,e=5)"
   ]
  },
  {
   "cell_type": "code",
   "execution_count": 8,
   "metadata": {},
   "outputs": [
    {
     "name": "stdout",
     "output_type": "stream",
     "text": [
      "姓名: robert\n",
      "age: 34\n",
      "{}\n",
      "========\n",
      "姓名: jenny\n",
      "age: 20\n",
      "{'a': 1, 'b': 2, 'c': 3, 'd': 4, 'e': 5}\n",
      "========\n"
     ]
    }
   ],
   "source": [
    "def person(name,age,**keargs):\n",
    "    print(\"姓名:\",name)\n",
    "    print(\"age:\",age)\n",
    "    print(keargs)\n",
    "\n",
    "    print(\"========\")\n",
    "person(\"robert\",34)\n",
    "dict={\"a\":1,\"b\":2,\"c\":3,\"d\":4,\"e\":5}\n",
    "person(\"jenny\",20,**dict)"
   ]
  }
 ],
 "metadata": {
  "kernelspec": {
   "display_name": "Python 3.10.7 ('venv01')",
   "language": "python",
   "name": "python3"
  },
  "language_info": {
   "codemirror_mode": {
    "name": "ipython",
    "version": 3
   },
   "file_extension": ".py",
   "mimetype": "text/x-python",
   "name": "python",
   "nbconvert_exporter": "python",
   "pygments_lexer": "ipython3",
   "version": "3.10.7"
  },
  "orig_nbformat": 4,
  "vscode": {
   "interpreter": {
    "hash": "70d584b9506959365acb928f1f96757e42f438193f67669a78d5d2fc9aef7e41"
   }
  }
 },
 "nbformat": 4,
 "nbformat_minor": 2
}
