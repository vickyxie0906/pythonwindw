{
 "cells": [
  {
   "cell_type": "code",
   "execution_count": 19,
   "metadata": {},
   "outputs": [],
   "source": [
    "class Person():\n",
    "    def __init__(self,name,age) :\n",
    "        #attribute\n",
    "        self.name=name\n",
    "        self.age=age\n",
    "    #實體的method\n",
    "    def shout(self):\n",
    "        print(f\"我的名字教{self.name}\")\n",
    "        print(f\"我的年齡是{self.age}\")\n"
   ]
  },
  {
   "cell_type": "code",
   "execution_count": 20,
   "metadata": {},
   "outputs": [
    {
     "name": "stdout",
     "output_type": "stream",
     "text": [
      "我的名字教robert\n",
      "我的年齡是35\n"
     ]
    }
   ],
   "source": [
    "p1=Person(\"robert\",35)\n",
    "p1.shout()\n",
    "\n",
    "\n"
   ]
  },
  {
   "cell_type": "code",
   "execution_count": 21,
   "metadata": {},
   "outputs": [
    {
     "name": "stdout",
     "output_type": "stream",
     "text": [
      "我的名字教jenny\n",
      "我的年齡是25\n"
     ]
    }
   ],
   "source": [
    "p2=Person(\"jenny\",25)\n",
    "p2.shout()\n"
   ]
  },
  {
   "cell_type": "code",
   "execution_count": 22,
   "metadata": {},
   "outputs": [],
   "source": [
    "#繼承Person\n",
    "class Student(Person):#繼承person 副類別\n",
    "    def __init__(self,name,age,w=60,h=175):#自定義\n",
    "        super().__init__(name,age)#執行副類別\n",
    "        self.weight=w\n",
    "        self.height=h\n",
    "  \n",
    "  #overwrite\n",
    "    def shout(self):\n",
    "        super().shout()\n",
    "        print(f\"我的身高:{self.height}\")\n",
    "        print(f\"我的體重:{self.weight}\")\n"
   ]
  },
  {
   "cell_type": "code",
   "execution_count": 23,
   "metadata": {},
   "outputs": [
    {
     "name": "stdout",
     "output_type": "stream",
     "text": [
      "我的名字教alice\n",
      "我的年齡是23\n",
      "我的身高:183\n",
      "我的體重:76\n"
     ]
    }
   ],
   "source": [
    "stu1=Student(name=\"alice\",age=23,w=76,h=183)\n",
    "stu1.shout()\n"
   ]
  },
  {
   "cell_type": "code",
   "execution_count": 24,
   "metadata": {},
   "outputs": [
    {
     "name": "stdout",
     "output_type": "stream",
     "text": [
      "我的名字教ken\n",
      "我的年齡是27\n",
      "我的身高:175\n",
      "我的體重:60\n"
     ]
    }
   ],
   "source": [
    "stu2 = Student(\"ken\", 27)\n",
    "stu2.shout()\n"
   ]
  }
 ],
 "metadata": {
  "kernelspec": {
   "display_name": "Python 3.10.7 ('venv01')",
   "language": "python",
   "name": "python3"
  },
  "language_info": {
   "codemirror_mode": {
    "name": "ipython",
    "version": 3
   },
   "file_extension": ".py",
   "mimetype": "text/x-python",
   "name": "python",
   "nbconvert_exporter": "python",
   "pygments_lexer": "ipython3",
   "version": "3.10.7"
  },
  "orig_nbformat": 4,
  "vscode": {
   "interpreter": {
    "hash": "70d584b9506959365acb928f1f96757e42f438193f67669a78d5d2fc9aef7e41"
   }
  }
 },
 "nbformat": 4,
 "nbformat_minor": 2
}
