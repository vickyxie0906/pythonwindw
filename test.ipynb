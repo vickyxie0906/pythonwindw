{
 "cells": [
  {
   "cell_type": "code",
   "execution_count": 54,
   "metadata": {},
   "outputs": [
    {
     "name": "stdout",
     "output_type": "stream",
     "text": [
      "賓果賓果 : -------------\n",
      "開獎日期 : 111/12/12 第111070119期 \n",
      "開出順序 : 04  05  07  13  15  20  23  25  37  39  \n",
      "大小順序 : 40  41  45  46  50  62  68  72  73  76  \n",
      "超級號 : 40\n",
      "猜大小 : －\n",
      "猜單雙 : 小單\n"
     ]
    }
   ],
   "source": [
    "import requests\n",
    "\n",
    "from bs4 import BeautifulSoup\n",
    "\n",
    "res=requests.get('https://www.taiwanlottery.com.tw/index_new.aspx')\n",
    "\n",
    "bsObj=BeautifulSoup(res.content,\"lxml\")\n",
    "\n",
    "child=bsObj.find('div',{'id':'rightdown'}).findAll('div',class_='ball_tx ball_yellow')\n",
    "\n",
    "print('賓果賓果 : -------------')\n",
    "\n",
    "print('開獎日期 :', bsObj.find('div', {'id': 'rightdown'}).findAll(\n",
    "    'span', class_='font_black15')[0].text)\n",
    "\n",
    "print('開出順序 :',end=' ')\n",
    "\n",
    "for index in range(0,10):\n",
    "\n",
    "    print(child[index].text,end=' ')\n",
    "\n",
    "print()\n",
    "\n",
    "print('大小順序 :',end=' ')\n",
    "\n",
    "for index in range(10,20):\n",
    "\n",
    "    print(child[index].text,end=' ')\n",
    "\n",
    "print()\n",
    "\n",
    "print('超級號 :',bsObj.find('div',{'id':'rightdown'}).findAll('div',class_='ball_red')[0].text)\n",
    "print('猜大小 :',bsObj.find('div',{'id':'rightdown'}).findAll('div',class_='ball_blue_BB1')[0].text)\n",
    "print('猜單雙 :',bsObj.find('div',{'id':'rightdown'}).findAll('div',class_='ball_blue_BB2')[0].text)"
   ]
  },
  {
   "cell_type": "code",
   "execution_count": 53,
   "metadata": {},
   "outputs": [
    {
     "name": "stdout",
     "output_type": "stream",
     "text": [
      "大樂透開獎 : -------------\n",
      "開獎日期 : 111/12/9 第111000108期 \n",
      "開出順序 : 48  22  40  45  16  10  \n",
      "大小順序 : 10  16  22  40  45  48  \n",
      "特別號 : 31 \n"
     ]
    }
   ],
   "source": [
    "import requests\n",
    "\n",
    "from bs4 import BeautifulSoup\n",
    "\n",
    "res=requests.get('https://www.taiwanlottery.com.tw/index_new.aspx')\n",
    "\n",
    "bsObj=BeautifulSoup(res.content,\"lxml\")\n",
    "\n",
    "child=bsObj.find('div',{'id':'rightdown'}).findAll('div',class_='ball_tx ball_yellow')\n",
    "\n",
    "print('大樂透開獎 : -------------')\n",
    "\n",
    "print('開獎日期 :', bsObj.find('div', {'id': 'rightdown'}).findAll(\n",
    "    'span', class_='font_black15')[4].text)\n",
    "\n",
    "print('開出順序 :',end=' ')\n",
    "\n",
    "for index in range(20,26):\n",
    "\n",
    "    print(child[index].text,end=' ')\n",
    "\n",
    "print()\n",
    "\n",
    "print('大小順序 :',end=' ')\n",
    "\n",
    "for index in range(26,32):\n",
    "\n",
    "    print(child[index].text,end=' ')\n",
    "\n",
    "print()\n",
    "\n",
    "print('特別號 :',bsObj.find('div',{'id':'rightdown'}).findAll('div',class_='ball_red')[2].text)\n"
   ]
  },
  {
   "cell_type": "code",
   "execution_count": 44,
   "metadata": {},
   "outputs": [
    {
     "name": "stdout",
     "output_type": "stream",
     "text": [
      "49樂合彩開獎 : -------------\n",
      "開獎日期 : 111/12/9 第111000108期 \n",
      "開出順序 : 48  22  40  45  16  10  \n",
      "大小順序 : 10  16  22  40  45  48  \n"
     ]
    }
   ],
   "source": [
    "import requests\n",
    "\n",
    "from bs4 import BeautifulSoup\n",
    "\n",
    "res=requests.get('https://www.taiwanlottery.com.tw/index_new.aspx')\n",
    "\n",
    "bsObj=BeautifulSoup(res.content,\"lxml\")\n",
    "\n",
    "child=bsObj.find('div',{'id':'rightdown'}).findAll('div',class_='ball_tx ball_yellow')\n",
    "\n",
    "print('49樂合彩開獎 : -------------')\n",
    "print('開獎日期 :', bsObj.find('div', {'id': 'rightdown'}).findAll(\n",
    "    'span', class_='font_black15')[5].text)\n",
    "\n",
    "print('開出順序 :',end=' ')\n",
    "\n",
    "for index in range(32,38):\n",
    "\n",
    "    print(child[index].text,end=' ')\n",
    "\n",
    "print()\n",
    "\n",
    "print('大小順序 :',end=' ')\n",
    "\n",
    "for index in range(38,44):\n",
    "\n",
    "    print(child[index].text,end=' ')\n",
    "\n",
    "print()\n",
    "\n",
    "\n"
   ]
  },
  {
   "cell_type": "code",
   "execution_count": 45,
   "metadata": {},
   "outputs": [
    {
     "name": "stdout",
     "output_type": "stream",
     "text": [
      "威力彩開獎 : -------------\n",
      "開獎日期 : 111/12/8 第111000098期 \n",
      "開出順序 : 21  15  08  12  25  14  \n",
      "大小順序 : 08  12  14  15  21  25  \n",
      "特別號 : 04 \n"
     ]
    }
   ],
   "source": [
    "import requests\n",
    "\n",
    "from bs4 import BeautifulSoup\n",
    "\n",
    "res = requests.get('https://www.taiwanlottery.com.tw/index_new.aspx')\n",
    "\n",
    "bsObj = BeautifulSoup(res.content, \"lxml\")\n",
    "\n",
    "child = bsObj.find('div', {'id': 'rightdown'}).findAll(\n",
    "    'div', class_='ball_tx ball_green')\n",
    "\n",
    "print('威力彩開獎 : -------------')\n",
    "print('開獎日期 :', bsObj.find('div', {'id': 'rightdown'}).findAll(\n",
    "    'span', class_='font_black15')[2].text)\n",
    "\n",
    "print('開出順序 :', end=' ')\n",
    "\n",
    "for index in range(0, 6):\n",
    "\n",
    "    print(child[index].text, end=' ')\n",
    "\n",
    "print()\n",
    "\n",
    "print('大小順序 :', end=' ')\n",
    "\n",
    "for index in range(6, 12):\n",
    "\n",
    "    print(child[index].text, end=' ')\n",
    "\n",
    "print()\n",
    "print('特別號 :', bsObj.find('div', {'id': 'rightdown'}).findAll(\n",
    "    'div', class_='ball_red')[1].text)\n"
   ]
  },
  {
   "cell_type": "code",
   "execution_count": 47,
   "metadata": {},
   "outputs": [
    {
     "name": "stdout",
     "output_type": "stream",
     "text": [
      "38樂合彩開獎 : -------------\n",
      "開獎日期 : 111/12/8 第111000098期 \n",
      "開出順序 : 21  15  08  12  25  14  \n",
      "大小順序 : 08  12  14  15  21  25  \n"
     ]
    }
   ],
   "source": [
    "import requests\n",
    "\n",
    "from bs4 import BeautifulSoup\n",
    "\n",
    "res = requests.get('https://www.taiwanlottery.com.tw/index_new.aspx')\n",
    "\n",
    "bsObj = BeautifulSoup(res.content, \"lxml\")\n",
    "\n",
    "child = bsObj.find('div', {'id': 'rightdown'}).findAll(\n",
    "    'div', class_='ball_tx ball_green')\n",
    "\n",
    "print('38樂合彩開獎 : -------------')\n",
    "print('開獎日期 :', bsObj.find('div', {'id': 'rightdown'}).findAll(\n",
    "    'span', class_='font_black15')[3].text)\n",
    "\n",
    "print('開出順序 :', end=' ')\n",
    "\n",
    "for index in range(12, 18):\n",
    "\n",
    "    print(child[index].text, end=' ')\n",
    "\n",
    "print()\n",
    "\n",
    "print('大小順序 :', end=' ')\n",
    "\n",
    "for index in range(18, 24):\n",
    "\n",
    "    print(child[index].text, end=' ')\n",
    "\n",
    "print()\n",
    "\n"
   ]
  },
  {
   "cell_type": "code",
   "execution_count": 48,
   "metadata": {},
   "outputs": [
    {
     "name": "stdout",
     "output_type": "stream",
     "text": [
      "今彩539開獎 : -------------\n",
      "開獎日期 : 111/12/10 第111000295期 \n",
      "開出順序 : 29  39  18  08  10  \n",
      "大小順序 : 08  10  18  29  39  \n"
     ]
    }
   ],
   "source": [
    "import requests\n",
    "\n",
    "from bs4 import BeautifulSoup\n",
    "\n",
    "res = requests.get('https://www.taiwanlottery.com.tw/index_new.aspx')\n",
    "\n",
    "bsObj = BeautifulSoup(res.content, \"lxml\")\n",
    "\n",
    "child = bsObj.find('div', {'id': 'rightdown'}).findAll(\n",
    "    'div', class_='ball_tx ball_lemon')\n",
    "\n",
    "print('今彩539開獎 : -------------')\n",
    "print('開獎日期 :', bsObj.find('div', {'id': 'rightdown'}).findAll(\n",
    "    'span', class_='font_black15')[6].text)\n",
    "\n",
    "print('開出順序 :', end=' ')\n",
    "\n",
    "for index in range(0, 5):\n",
    "\n",
    "    print(child[index].text, end=' ')\n",
    "\n",
    "print()\n",
    "\n",
    "print('大小順序 :', end=' ')\n",
    "\n",
    "for index in range(5, 10):\n",
    "\n",
    "    print(child[index].text, end=' ')\n",
    "\n",
    "print()\n"
   ]
  },
  {
   "cell_type": "code",
   "execution_count": 49,
   "metadata": {},
   "outputs": [
    {
     "name": "stdout",
     "output_type": "stream",
     "text": [
      "39樂合彩 : -------------\n",
      "開獎日期 : 111/12/10 第111000295期 \n",
      "開出順序 : 29  39  18  08  10  \n",
      "大小順序 : 08  10  18  29  39  \n"
     ]
    }
   ],
   "source": [
    "import requests\n",
    "\n",
    "from bs4 import BeautifulSoup\n",
    "\n",
    "res = requests.get('https://www.taiwanlottery.com.tw/index_new.aspx')\n",
    "\n",
    "bsObj = BeautifulSoup(res.content, \"lxml\")\n",
    "\n",
    "child = bsObj.find('div', {'id': 'rightdown'}).findAll(\n",
    "    'div', class_='ball_tx ball_lemon')\n",
    "\n",
    "print('39樂合彩 : -------------')\n",
    "print('開獎日期 :', bsObj.find('div', {'id': 'rightdown'}).findAll(\n",
    "    'span', class_='font_black15')[7].text)\n",
    "\n",
    "print('開出順序 :', end=' ')\n",
    "\n",
    "for index in range(10, 15):\n",
    "\n",
    "    print(child[index].text, end=' ')\n",
    "\n",
    "print()\n",
    "\n",
    "print('大小順序 :', end=' ')\n",
    "\n",
    "for index in range(15, 20):\n",
    "\n",
    "    print(child[index].text, end=' ')\n",
    "\n",
    "print()\n"
   ]
  },
  {
   "cell_type": "code",
   "execution_count": 50,
   "metadata": {},
   "outputs": [
    {
     "name": "stdout",
     "output_type": "stream",
     "text": [
      "3星彩開獎 : -------------\n",
      "開獎日期 : 111/12/10 第111000295期 \n",
      "中獎號碼 : 6 6 4 \n"
     ]
    }
   ],
   "source": [
    "import requests\n",
    "\n",
    "from bs4 import BeautifulSoup\n",
    "\n",
    "res = requests.get('https://www.taiwanlottery.com.tw/index_new.aspx')\n",
    "\n",
    "bsObj = BeautifulSoup(res.content, \"lxml\")\n",
    "\n",
    "child = bsObj.find('div', {'id': 'rightdown'}).findAll(\n",
    "    'div', class_='ball_tx ball_purple')\n",
    "\n",
    "print('3星彩開獎 : -------------')\n",
    "print('開獎日期 :', bsObj.find('div', {'id': 'rightdown'}).findAll(\n",
    "    'span', class_='font_black15')[8].text)\n",
    "\n",
    "print('中獎號碼 :', end=' ')\n",
    "\n",
    "for index in range(0, 3):\n",
    "\n",
    "    print(child[index].text, end=' ')\n",
    "\n",
    "print()\n",
    "\n",
    "\n"
   ]
  },
  {
   "cell_type": "code",
   "execution_count": 51,
   "metadata": {},
   "outputs": [
    {
     "name": "stdout",
     "output_type": "stream",
     "text": [
      "4星彩開獎 : -------------\n",
      "開獎日期 : 111/12/10 第111000295期 \n",
      "中獎號碼 : 9 4 6 6 \n"
     ]
    }
   ],
   "source": [
    "import requests\n",
    "\n",
    "from bs4 import BeautifulSoup\n",
    "\n",
    "res = requests.get('https://www.taiwanlottery.com.tw/index_new.aspx')\n",
    "\n",
    "bsObj = BeautifulSoup(res.content, \"lxml\")\n",
    "\n",
    "child = bsObj.find('div', {'id': 'rightdown'}).findAll(\n",
    "    'div', class_='ball_tx ball_purple')\n",
    "\n",
    "print('4星彩開獎 : -------------')\n",
    "print('開獎日期 :', bsObj.find('div', {'id': 'rightdown'}).findAll(\n",
    "    'span', class_='font_black15')[9].text)\n",
    "\n",
    "print('中獎號碼 :', end=' ')\n",
    "\n",
    "for index in range(3, 7):\n",
    "\n",
    "    print(child[index].text, end=' ')\n",
    "\n",
    "print()\n"
   ]
  },
  {
   "cell_type": "code",
   "execution_count": 25,
   "metadata": {},
   "outputs": [
    {
     "name": "stdout",
     "output_type": "stream",
     "text": [
      "雙贏彩開獎 : -------------\n",
      "開出順序 : 13  11  18  16  06  08  03  07  22  04  02  15  \n",
      "大小順序 : 02  03  04  06  07  08  11  13  15  16  18  22  \n"
     ]
    }
   ],
   "source": [
    "import requests\n",
    "\n",
    "from bs4 import BeautifulSoup\n",
    "\n",
    "res = requests.get('https://www.taiwanlottery.com.tw/index_new.aspx')\n",
    "\n",
    "bsObj = BeautifulSoup(res.content, \"lxml\")\n",
    "\n",
    "child = bsObj.find('div', {'id': 'rightdown'}).findAll(\n",
    "    'div', class_='ball_tx ball_blue')\n",
    "\n",
    "print('雙贏彩開獎 : -------------')\n",
    "\n",
    "print('開出順序 :', end=' ')\n",
    "\n",
    "for index in range(0, 12):\n",
    "\n",
    "    print(child[index].text, end=' ')\n",
    "\n",
    "print()\n",
    "\n",
    "print('大小順序 :', end=' ')\n",
    "\n",
    "for index in range(12, 24):\n",
    "\n",
    "    print(child[index].text, end=' ')\n",
    "\n",
    "print()\n"
   ]
  },
  {
   "cell_type": "code",
   "execution_count": 31,
   "metadata": {},
   "outputs": [
    {
     "name": "stdout",
     "output_type": "stream",
     "text": [
      "賓果賓果開獎 : -------------\n",
      "開出順序 : 02  04  08  13  14  21  23  25  35  36  \n",
      "大小順序 : 42  46  51  52  56  62  67  73  77  78  \n",
      "超級獎 : 42\n",
      "猜大小 : －\n",
      "猜單雙 : 小雙\n"
     ]
    }
   ],
   "source": [
    "import requests\n",
    "\n",
    "from bs4 import BeautifulSoup\n",
    "\n",
    "res = requests.get('https://www.taiwanlottery.com.tw/index_new.aspx')\n",
    "\n",
    "bsObj = BeautifulSoup(res.content, \"lxml\")\n",
    "\n",
    "child = bsObj.find('div', {'id': 'rightdown'}).findAll(\n",
    "    'div', class_='ball_tx ball_yellow')\n",
    "\n",
    "print('賓果賓果開獎 : -------------')\n",
    "\n",
    "print('開出順序 :', end=' ')\n",
    "\n",
    "for index in range(0, 10):\n",
    "\n",
    "    print(child[index].text, end=' ')\n",
    "\n",
    "print()\n",
    "\n",
    "print('大小順序 :', end=' ')\n",
    "\n",
    "for index in range(10, 20):\n",
    "\n",
    "    print(child[index].text, end=' ')\n",
    "\n",
    "print()\n",
    "print('超級獎 :', bsObj.find('div', {'id': 'rightdown'}).findAll(\n",
    "    'div', class_='ball_red')[0].text)\n",
    "print('猜大小 :', bsObj.find('div', {'id': 'rightdown'}).findAll(\n",
    "    'div', class_='ball_blue_BB1')[0].text)\n",
    "print('猜單雙 :', bsObj.find('div', {'id': 'rightdown'}).findAll(\n",
    "    'div', class_='ball_blue_BB2')[0].text)\n"
   ]
  }
 ],
 "metadata": {
  "kernelspec": {
   "display_name": "Python 3.10.7 ('venv06')",
   "language": "python",
   "name": "python3"
  },
  "language_info": {
   "codemirror_mode": {
    "name": "ipython",
    "version": 3
   },
   "file_extension": ".py",
   "mimetype": "text/x-python",
   "name": "python",
   "nbconvert_exporter": "python",
   "pygments_lexer": "ipython3",
   "version": "3.10.7"
  },
  "orig_nbformat": 4,
  "vscode": {
   "interpreter": {
    "hash": "809c4c8a2e25af233035317becbb40b4baa7a9917d50fdf6fc1e48586e24f4bc"
   }
  }
 },
 "nbformat": 4,
 "nbformat_minor": 2
}
