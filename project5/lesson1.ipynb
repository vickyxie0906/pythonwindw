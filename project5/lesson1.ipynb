{
 "cells": [
  {
   "cell_type": "code",
   "execution_count": 6,
   "metadata": {},
   "outputs": [
    {
     "data": {
      "text/plain": [
       "'https://api.openweathermap.org/data/2.5/forecast?q=Taipei,tw&appid=c017ac798470580402a9cebf01171858&lang=zh_tw&units=metric'"
      ]
     },
     "execution_count": 6,
     "metadata": {},
     "output_type": "execute_result"
    }
   ],
   "source": [
    "import requests\n",
    "api_key=\"c017ac798470580402a9cebf01171858\"\n",
    "cityName=\"Taipei\"\n",
    "url=f\"https://api.openweathermap.org/data/2.5/forecast?q={cityName},tw&appid={api_key}&lang=zh_tw&units=metric\"\n",
    "url"
   ]
  }
 ],
 "metadata": {
  "kernelspec": {
   "display_name": "Python 3.10.7 ('venv05')",
   "language": "python",
   "name": "python3"
  },
  "language_info": {
   "codemirror_mode": {
    "name": "ipython",
    "version": 3
   },
   "file_extension": ".py",
   "mimetype": "text/x-python",
   "name": "python",
   "nbconvert_exporter": "python",
   "pygments_lexer": "ipython3",
   "version": "3.10.7"
  },
  "orig_nbformat": 4,
  "vscode": {
   "interpreter": {
    "hash": "da3e0ed723d9ff4c96f3018c5471ef22797bf471745c22c72df3c76ae150e920"
   }
  }
 },
 "nbformat": 4,
 "nbformat_minor": 2
}
