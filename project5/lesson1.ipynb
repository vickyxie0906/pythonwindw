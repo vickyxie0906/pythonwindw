{
 "cells": [
  {
   "cell_type": "code",
   "execution_count": null,
   "metadata": {},
   "outputs": [],
   "source": [
    "# import requests\n",
    "# api_key=\"c017ac798470580402a9cebf01171858\"\n",
    "# cityName=\"Taipei\"\n",
    "# url=f\"https://api.openweathermap.org/data/2.5/forecast?q={cityName},tw&appid={api_key}&lang=zh_tw&units=metric\"\n",
    "# response=requests.get(url=url)\n",
    "\n",
    "# if response.ok:\n",
    "#     print(\"下載成功\")\n",
    "#     print(response.text)\n",
    "# else:\n",
    "#     print(\"下載失敗\")\n"
   ]
  },
  {
   "cell_type": "code",
   "execution_count": 2,
   "metadata": {},
   "outputs": [
    {
     "name": "stdout",
     "output_type": "stream",
     "text": [
      "發生錯誤\n"
     ]
    }
   ],
   "source": [
    "names=[\"nini\",\"lily\",\"cindy\"]\n",
    "\n",
    "try:\n",
    "    names[5]\n",
    "except:\n",
    "    print(\"發生錯誤\")\n"
   ]
  }
 ],
 "metadata": {
  "kernelspec": {
   "display_name": "Python 3.10.7 ('venv05')",
   "language": "python",
   "name": "python3"
  },
  "language_info": {
   "codemirror_mode": {
    "name": "ipython",
    "version": 3
   },
   "file_extension": ".py",
   "mimetype": "text/x-python",
   "name": "python",
   "nbconvert_exporter": "python",
   "pygments_lexer": "ipython3",
   "version": "3.10.7"
  },
  "orig_nbformat": 4,
  "vscode": {
   "interpreter": {
    "hash": "0c7103dd9c0a3584d1a3b3ad750bc6b386fc01cb6fe73789f272401a3974b9a1"
   }
  }
 },
 "nbformat": 4,
 "nbformat_minor": 2
}
