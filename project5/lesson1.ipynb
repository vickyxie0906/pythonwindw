{
 "cells": [
  {
   "cell_type": "code",
   "execution_count": null,
   "metadata": {},
   "outputs": [],
   "source": [
    "import requests\n",
    "api_key=\"c017ac798470580402a9cebf01171858\"\n",
    "cityName=\"Taipei\"\n",
    "url=f\"https://api.openweathermap.org/data/2.5/forecast?q={cityName},tw&appid={api_key}&lang=zh_tw&units=metric\"\n",
    "response=requests.get(url=url)\n",
    "\n",
    "if response.ok:\n",
    "    print(\"下載成功\")\n",
    "    print(response.text)\n",
    "else:\n",
    "    print(\"下載失敗\")\n"
   ]
  },
  {
   "cell_type": "code",
   "execution_count": 4,
   "metadata": {},
   "outputs": [
    {
     "name": "stdout",
     "output_type": "stream",
     "text": [
      "超出索引範圍\n"
     ]
    }
   ],
   "source": [
    "names=[\"nini\",\"lily\",\"cindy\"]\n",
    "\n",
    "try:\n",
    "    names[5]\n",
    "\n",
    "except IndexError:\n",
    "    print(\"超出索引範圍\")    \n",
    "except Exception as e:\n",
    "    print(e)\n"
   ]
  }
 ],
 "metadata": {
  "kernelspec": {
   "display_name": "Python 3.10.8 ('venv01')",
   "language": "python",
   "name": "python3"
  },
  "language_info": {
   "codemirror_mode": {
    "name": "ipython",
    "version": 3
   },
   "file_extension": ".py",
   "mimetype": "text/x-python",
   "name": "python",
   "nbconvert_exporter": "python",
   "pygments_lexer": "ipython3",
   "version": "3.10.8"
  },
  "orig_nbformat": 4,
  "vscode": {
   "interpreter": {
    "hash": "de888c80a84c4ba77f2eb9ba9eb38ecbc205d0171233e6b6b127d90dd3ac21aa"
   }
  }
 },
 "nbformat": 4,
 "nbformat_minor": 2
}
