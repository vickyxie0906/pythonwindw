{
 "cells": [
  {
   "cell_type": "code",
   "execution_count": 3,
   "metadata": {},
   "outputs": [],
   "source": [
    "import requests\n"
   ]
  },
  {
   "cell_type": "code",
   "execution_count": 13,
   "metadata": {},
   "outputs": [
    {
     "name": "stdout",
     "output_type": "stream",
     "text": [
      "c017ac798470580402a9cebf01171858\n"
     ]
    }
   ],
   "source": [
    "import private\n",
    "print(private.secret.open_weather_key)\n"
   ]
  },
  {
   "cell_type": "code",
   "execution_count": 12,
   "metadata": {},
   "outputs": [
    {
     "name": "stdout",
     "output_type": "stream",
     "text": [
      "https://api.openweathermap.org/data/2.5/forecast?q=Hualien,tw&appid=c017ac798470580402a9cebf01171858&lang=zh_tw&units=metric\n"
     ]
    }
   ],
   "source": [
    "api_key = open_weather_key = \"c017ac798470580402a9cebf01171858\"\n",
    "url = f\"https://api.openweathermap.org/data/2.5/forecast?q=Hualien,tw&appid={api_key}&lang=zh_tw&units=metric\"\n",
    "print(url)\n"
   ]
  },
  {
   "cell_type": "code",
   "execution_count": null,
   "metadata": {},
   "outputs": [],
   "source": [
    "tw_county_names = {\"台北\": \"Taipei\",\n",
    "                   \"台中\": \"Taichung\",\n",
    "                   \"基隆\": \"Keelung\",\n",
    "                   \"台南\": \"Tainan\",\n",
    "                   \"高雄\": \"Kaohsiung\",\n",
    "                   \"新北\": \"New Taipei\",\n",
    "                   \"宜蘭\": \"Yilan\",\n",
    "                   \"桃園\": \"Taoyuan\",\n",
    "                   \"嘉義\": \"Chiayi\",\n",
    "                   \"新竹\": \"Hsinchu\",\n",
    "                   \"苗栗\": \"Miaoli\",\n",
    "                   \"南投\": \"Nantou\",\n",
    "                   \"彰化\": \"Changhua\",\n",
    "                   \"雲林\": \"Yunlin\",\n",
    "                   \"屏東\": \"Pingtung\",\n",
    "                   \"花蓮\": \"Hualien\",\n",
    "                   \"台東\": \"Taitung\",\n",
    "                   \"金門\": \"Kinmen\",\n",
    "                   \"澎湖\": \"Penghu\",\n",
    "                   \"連江\": \"Lienchiang\"\n",
    "                   }\n",
    "\n"
   ]
  },
  {
   "cell_type": "code",
   "execution_count": 15,
   "metadata": {},
   "outputs": [
    {
     "name": "stdout",
     "output_type": "stream",
     "text": [
      "下載成功\n",
      "{'id': 1674502, 'name': 'Hualien', 'coord': {'lat': 23.7817, 'lon': 121.3933}, 'country': 'TW', 'population': 0, 'timezone': 28800, 'sunrise': 1668377291, 'sunset': 1668416974}\n"
     ]
    }
   ],
   "source": [
    "response=requests.get(url)\n",
    "if response.ok:\n",
    "    print(\"下載成功\")\n",
    "    # print(response.json())\n",
    "    allData=response.json()\n",
    "    city=allData[\"city\"]\n",
    "    print(city)\n"
   ]
  }
 ],
 "metadata": {
  "kernelspec": {
   "display_name": "Python 3.10.7 ('venv03')",
   "language": "python",
   "name": "python3"
  },
  "language_info": {
   "codemirror_mode": {
    "name": "ipython",
    "version": 3
   },
   "file_extension": ".py",
   "mimetype": "text/x-python",
   "name": "python",
   "nbconvert_exporter": "python",
   "pygments_lexer": "ipython3",
   "version": "3.10.7"
  },
  "orig_nbformat": 4,
  "vscode": {
   "interpreter": {
    "hash": "31df48a463907e4a38acd68b00b137978bdeb52ef3037ffd5c288af50591e11e"
   }
  }
 },
 "nbformat": 4,
 "nbformat_minor": 2
}
