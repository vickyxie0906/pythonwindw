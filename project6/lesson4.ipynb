{
 "cells": [
  {
   "cell_type": "code",
   "execution_count": null,
   "metadata": {},
   "outputs": [],
   "source": [
    "# 動態網頁爬蟲 安裝兩套件\n",
    "# pip install selenium 安裝動態網頁需要使用的套件 動態網頁爬蟲\n",
    "# pip install webdriver-manager\n"
   ]
  },
  {
   "cell_type": "code",
   "execution_count": 7,
   "metadata": {},
   "outputs": [
    {
     "name": "stdout",
     "output_type": "stream",
     "text": [
      "<html lang=\"en\" class=\"h-100\"><head>\n",
      "  <title>Web form - target page</title>\n",
      "\n",
      "  <meta charset=\"utf-8\">\n",
      "  <meta name=\"viewport\" content=\"width=device-width, initial-scale=1\">\n",
      "\n",
      "  <link href=\"//cdn.jsdelivr.net/npm/bootstrap@5.1.0/dist/css/bootstrap.min.css\" rel=\"stylesheet\">\n",
      "  <script src=\"//code.jquery.com/jquery-3.6.0.min.js\"></script>\n",
      "  <script src=\"//cdn.jsdelivr.net/npm/bootstrap@5.1.0/dist/js/bootstrap.bundle.min.js\"></script>\n",
      "</head>\n",
      "\n",
      "<body class=\"d-flex flex-column h-100\">\n",
      "  <main class=\"flex-shrink-2\">\n",
      "    <div class=\"container\">\n",
      "      <div class=\"row\">\n",
      "        <div class=\"col-12\">\n",
      "          <h1 class=\"display-6\">Form submitted</h1>\n",
      "        </div>\n",
      "      </div>\n",
      "      <div class=\"row\">\n",
      "        <div class=\"col-12 py-2\">\n",
      "          <p class=\"lead\" id=\"message\">Received!</p>\n",
      "        </div>\n",
      "      </div>\n",
      "    </div>\n",
      "  </main>\n",
      "\n",
      "\n",
      "\n",
      "</body></html>\n"
     ]
    }
   ],
   "source": [
    "# Use with Chrome 下載的是另一個可控制的Chrome\n",
    "from selenium import webdriver\n",
    "from selenium.webdriver.chrome.service import Service as ChromeService\n",
    "from webdriver_manager.chrome import ChromeDriverManager\n",
    "from selenium.webdriver.common.by import By\n",
    "from selenium.webdriver.support.wait import WebDriverWait #下載明確等待時間\n",
    "\n",
    "driver = webdriver.Chrome(service=ChromeService(\n",
    "    ChromeDriverManager().install()))\n",
    "driver.get(\"https://www.selenium.dev/selenium/web/web-form.html\")\n",
    "driver.implicitly_wait(0.5)#最長等待時間0.5秒 不斷的找元素(沒有找到的話每0.5秒會重找一次)\n",
    "text_box = driver.find_element(by=By.NAME, value=\"my-text\")\n",
    "submit_button = driver.find_element(by=By.CSS_SELECTOR, value=\"button\")\n",
    "text_box.send_keys(\"Selenium\")\n",
    "submit_button.click()#模擬按按鈕\n",
    "WebDriverWait(driver, timeout=1)#等待時間1秒(後關閉視窗)\n",
    "print(driver.page_source)\n",
    "driver.quit()#關閉視窗\n"
   ]
  },
  {
   "cell_type": "code",
   "execution_count": null,
   "metadata": {},
   "outputs": [],
   "source": []
  }
 ],
 "metadata": {
  "kernelspec": {
   "display_name": "Python 3.10.7 ('venv06')",
   "language": "python",
   "name": "python3"
  },
  "language_info": {
   "codemirror_mode": {
    "name": "ipython",
    "version": 3
   },
   "file_extension": ".py",
   "mimetype": "text/x-python",
   "name": "python",
   "nbconvert_exporter": "python",
   "pygments_lexer": "ipython3",
   "version": "3.10.7"
  },
  "orig_nbformat": 4,
  "vscode": {
   "interpreter": {
    "hash": "809c4c8a2e25af233035317becbb40b4baa7a9917d50fdf6fc1e48586e24f4bc"
   }
  }
 },
 "nbformat": 4,
 "nbformat_minor": 2
}
