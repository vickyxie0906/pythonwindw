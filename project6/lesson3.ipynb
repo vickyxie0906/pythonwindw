{
 "cells": [
  {
   "cell_type": "code",
   "execution_count": 4,
   "metadata": {},
   "outputs": [],
   "source": [
    "import requests\n",
    "url = \"https://www.ytower.com.tw/recipe/iframe-recipe.asp?seq=A03-1644\"\n",
    "response=requests.get(url)\n",
    "response.encoding='big5'\n",
    "if response.ok:\n",
    "    html_code=response.text\n",
    "else:\n",
    "    print(\"下載失敗\")"
   ]
  },
  {
   "cell_type": "code",
   "execution_count": 6,
   "metadata": {},
   "outputs": [
    {
     "data": {
      "text/plain": [
       "'宮保雞丁(14)'"
      ]
     },
     "execution_count": 6,
     "metadata": {},
     "output_type": "execute_result"
    }
   ],
   "source": [
    "from bs4 import BeautifulSoup\n",
    "soup=BeautifulSoup(html_code,'html.parser')\n",
    "recipe_groups=soup.find(name='div',id='recipe_name')\n",
    "recipe_groups.get_text()"
   ]
  },
  {
   "cell_type": "code",
   "execution_count": 10,
   "metadata": {},
   "outputs": [
    {
     "name": "stdout",
     "output_type": "stream",
     "text": [
      "['【材\\u3000料】', '雞胸肉\\n150公克', '乾辣椒\\n10公克', '青椒\\n40公克', '蒜末\\n5公克', '薑末\\n5公克', '蔥\\n20公克', '去皮花生米\\n30公克']\n",
      "['【調 味 料】', 'A.醬油\\n1大匙\\n\\n\\n\\n\\n太白粉\\n1大匙\\n\\n\\n\\n\\n料酒\\n1小匙\\n\\n\\n\\n\\n蛋白\\n1大匙\\n\\n\\n\\n\\nB.宮保醬\\n4大匙\\n\\n\\n\\n\\n太白粉\\n1/4小匙\\n\\n\\n\\n\\nC.香油\\n1大匙', '太白粉\\n1大匙\\n\\n\\n\\n\\n料酒\\n1小匙\\n\\n\\n\\n\\n蛋白\\n1大匙\\n\\n\\n\\n\\nB.宮保醬\\n4大匙\\n\\n\\n\\n\\n太白粉\\n1/4小匙\\n\\n\\n\\n\\nC.香油\\n1大匙', '料酒\\n1小匙\\n\\n\\n\\n\\n蛋白\\n1大匙\\n\\n\\n\\n\\nB.宮保醬\\n4大匙\\n\\n\\n\\n\\n太白粉\\n1/4小匙\\n\\n\\n\\n\\nC.香油\\n1大匙', '蛋白\\n1大匙\\n\\n\\n\\n\\nB.宮保醬\\n4大匙\\n\\n\\n\\n\\n太白粉\\n1/4小匙\\n\\n\\n\\n\\nC.香油\\n1大匙', 'B.宮保醬\\n4大匙\\n\\n\\n\\n\\n太白粉\\n1/4小匙\\n\\n\\n\\n\\nC.香油\\n1大匙', '太白粉\\n1/4小匙\\n\\n\\n\\n\\nC.香油\\n1大匙', 'C.香油\\n1大匙', '']\n"
     ]
    }
   ],
   "source": [
    "ingredients=soup.find_all(name='ul',class_='ingredient')\n",
    "for ingredient in ingredients:\n",
    "    ingredient_list=[]\n",
    "    for li in ingredient.find_all(name='li'):\n",
    "        ingredient_list.append(li.get_text().strip())\n",
    "    print(ingredient_list)\n",
    "\n"
   ]
  },
  {
   "cell_type": "code",
   "execution_count": null,
   "metadata": {},
   "outputs": [],
   "source": []
  }
 ],
 "metadata": {
  "kernelspec": {
   "display_name": "Python 3.10.7 ('venv06')",
   "language": "python",
   "name": "python3"
  },
  "language_info": {
   "codemirror_mode": {
    "name": "ipython",
    "version": 3
   },
   "file_extension": ".py",
   "mimetype": "text/x-python",
   "name": "python",
   "nbconvert_exporter": "python",
   "pygments_lexer": "ipython3",
   "version": "3.10.7"
  },
  "orig_nbformat": 4,
  "vscode": {
   "interpreter": {
    "hash": "809c4c8a2e25af233035317becbb40b4baa7a9917d50fdf6fc1e48586e24f4bc"
   }
  }
 },
 "nbformat": 4,
 "nbformat_minor": 2
}
