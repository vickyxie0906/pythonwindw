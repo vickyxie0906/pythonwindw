{
 "cells": [
  {
   "cell_type": "code",
   "execution_count": 1,
   "metadata": {},
   "outputs": [],
   "source": [
    "import requests\n",
    "url = \"https://fhy.wra.gov.tw/fhyv2/monitor/reservoir\"\n",
    "response = requests.get(url)\n",
    "response.encoding = 'zh-Hant-TW'\n",
    "if response.ok:\n",
    "    html_code = response.text\n",
    "else:\n",
    "    print(\"下載失敗\")\n"
   ]
  }
 ],
 "metadata": {
  "kernelspec": {
   "display_name": "Python 3.10.7 ('venv06')",
   "language": "python",
   "name": "python3"
  },
  "language_info": {
   "codemirror_mode": {
    "name": "ipython",
    "version": 3
   },
   "file_extension": ".py",
   "mimetype": "text/x-python",
   "name": "python",
   "nbconvert_exporter": "python",
   "pygments_lexer": "ipython3",
   "version": "3.10.7"
  },
  "orig_nbformat": 4,
  "vscode": {
   "interpreter": {
    "hash": "809c4c8a2e25af233035317becbb40b4baa7a9917d50fdf6fc1e48586e24f4bc"
   }
  }
 },
 "nbformat": 4,
 "nbformat_minor": 2
}
